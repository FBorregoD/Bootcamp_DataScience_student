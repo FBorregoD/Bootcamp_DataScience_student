{
  "nbformat": 4,
  "nbformat_minor": 0,
  "metadata": {
    "colab": {
      "name": "01_Python_tipo_de_datos.ipynb",
      "provenance": [],
      "authorship_tag": "ABX9TyNNxkkGIZcKbtNPUjEgv9mK",
      "include_colab_link": true
    },
    "kernelspec": {
      "name": "python3",
      "display_name": "Python 3"
    },
    "language_info": {
      "name": "python"
    }
  },
  "cells": [
    {
      "cell_type": "markdown",
      "metadata": {
        "id": "view-in-github",
        "colab_type": "text"
      },
      "source": [
        "<a href=\"https://colab.research.google.com/github/ricardocarreras/Bootcamp_DataScience_student/blob/master/01_Python_tipo_de_datos.ipynb\" target=\"_parent\"><img src=\"https://colab.research.google.com/assets/colab-badge.svg\" alt=\"Open In Colab\"/></a>"
      ]
    },
    {
      "cell_type": "code",
      "metadata": {
        "colab": {
          "base_uri": "https://localhost:8080/",
          "height": 129
        },
        "id": "DSYIn0itQ0cI",
        "outputId": "5c4e3479-998e-4747-9933-448381c1d5bc"
      },
      "source": [
        "1 # Siempre y cuando necesitamos instalar librerias o interactuar con la línea de comandos, operamos con exclamación !\n",
        "2 !ls\n"
      ],
      "execution_count": 2,
      "outputs": [
        {
          "output_type": "error",
          "ename": "SyntaxError",
          "evalue": "ignored",
          "traceback": [
            "\u001b[0;36m  File \u001b[0;32m\"<ipython-input-2-8e779038bcf2>\"\u001b[0;36m, line \u001b[0;32m2\u001b[0m\n\u001b[0;31m    2 !ls\u001b[0m\n\u001b[0m      ^\u001b[0m\n\u001b[0;31mSyntaxError\u001b[0m\u001b[0;31m:\u001b[0m invalid syntax\n"
          ]
        }
      ]
    },
    {
      "cell_type": "code",
      "metadata": {
        "colab": {
          "base_uri": "https://localhost:8080/"
        },
        "id": "rlGRLvPATG68",
        "outputId": "63162a6d-613d-43c5-dda5-17fee43ecff4"
      },
      "source": [
        "!ls"
      ],
      "execution_count": 3,
      "outputs": [
        {
          "output_type": "stream",
          "name": "stdout",
          "text": [
            "sample_data\n"
          ]
        }
      ]
    },
    {
      "cell_type": "code",
      "metadata": {
        "id": "-Ohc10lCTSrn"
      },
      "source": [
        "!mkdir ricardo"
      ],
      "execution_count": 4,
      "outputs": []
    },
    {
      "cell_type": "code",
      "metadata": {
        "id": "g1CjpqZuTZ7A"
      },
      "source": [
        "!cd ricardo"
      ],
      "execution_count": 5,
      "outputs": []
    },
    {
      "cell_type": "code",
      "metadata": {
        "colab": {
          "base_uri": "https://localhost:8080/"
        },
        "id": "GXoejpfPTe5j",
        "outputId": "e450155b-c7e6-495d-af71-4421fc3d3d31"
      },
      "source": [
        "!ls"
      ],
      "execution_count": 6,
      "outputs": [
        {
          "output_type": "stream",
          "name": "stdout",
          "text": [
            "ricardo  sample_data\n"
          ]
        }
      ]
    },
    {
      "cell_type": "code",
      "metadata": {
        "id": "2IdlGRcvTjL9"
      },
      "source": [
        ""
      ],
      "execution_count": null,
      "outputs": []
    },
    {
      "cell_type": "code",
      "metadata": {
        "id": "GX3Nz78yT4nd"
      },
      "source": [
        "from google.colab import drive\n",
        "drive.mount('/gdrive')\n",
        "%cd /gdrive"
      ],
      "execution_count": null,
      "outputs": []
    },
    {
      "cell_type": "code",
      "metadata": {
        "id": "f7aJvTJcT5HM"
      },
      "source": [
        "from google.colab import drive\n",
        "drive.mount('/gdrive')\n",
        "%cd /gdrive"
      ],
      "execution_count": null,
      "outputs": []
    },
    {
      "cell_type": "code",
      "metadata": {
        "colab": {
          "base_uri": "https://localhost:8080/"
        },
        "id": "w86WeLXcURms",
        "outputId": "546e97f3-ea18-468d-eaa4-28c57ab1bc56"
      },
      "source": [
        "!ls"
      ],
      "execution_count": 7,
      "outputs": [
        {
          "output_type": "stream",
          "name": "stdout",
          "text": [
            "ricardo  sample_data\n"
          ]
        }
      ]
    },
    {
      "cell_type": "code",
      "metadata": {
        "colab": {
          "base_uri": "https://localhost:8080/"
        },
        "id": "aMjAXJk4USuv",
        "outputId": "b303c3d5-fcd0-44cd-fb9a-1983d58c86a2"
      },
      "source": [
        "!python --version"
      ],
      "execution_count": 8,
      "outputs": [
        {
          "output_type": "stream",
          "name": "stdout",
          "text": [
            "Python 3.7.12\n"
          ]
        }
      ]
    },
    {
      "cell_type": "code",
      "metadata": {
        "colab": {
          "base_uri": "https://localhost:8080/"
        },
        "id": "BU1jl58pU1pH",
        "outputId": "34af515d-94e5-438a-f7c3-418fbb1d4c57"
      },
      "source": [
        "!which python"
      ],
      "execution_count": 9,
      "outputs": [
        {
          "output_type": "stream",
          "name": "stdout",
          "text": [
            "/usr/local/bin/python\n"
          ]
        }
      ]
    },
    {
      "cell_type": "code",
      "metadata": {
        "colab": {
          "base_uri": "https://localhost:8080/"
        },
        "id": "_HEQHP3_U5TY",
        "outputId": "c92ec02a-287c-4dea-ea90-710b31455a78"
      },
      "source": [
        "!whoami"
      ],
      "execution_count": 10,
      "outputs": [
        {
          "output_type": "stream",
          "name": "stdout",
          "text": [
            "root\n"
          ]
        }
      ]
    },
    {
      "cell_type": "code",
      "metadata": {
        "colab": {
          "base_uri": "https://localhost:8080/",
          "height": 129
        },
        "id": "4C-9tIniU9Pj",
        "outputId": "06e73fc7-4420-4447-a178-94b657582729"
      },
      "source": [
        "1 import this"
      ],
      "execution_count": 11,
      "outputs": [
        {
          "output_type": "error",
          "ename": "SyntaxError",
          "evalue": "ignored",
          "traceback": [
            "\u001b[0;36m  File \u001b[0;32m\"<ipython-input-11-3c2dd173d978>\"\u001b[0;36m, line \u001b[0;32m1\u001b[0m\n\u001b[0;31m    1 import this\u001b[0m\n\u001b[0m           ^\u001b[0m\n\u001b[0;31mSyntaxError\u001b[0m\u001b[0;31m:\u001b[0m invalid syntax\n"
          ]
        }
      ]
    },
    {
      "cell_type": "code",
      "metadata": {
        "colab": {
          "base_uri": "https://localhost:8080/"
        },
        "id": "PrFObB_8bD9s",
        "outputId": "e1240dc6-6ee2-40c8-fec5-3e2cee636267"
      },
      "source": [
        "import this"
      ],
      "execution_count": 12,
      "outputs": [
        {
          "output_type": "stream",
          "name": "stdout",
          "text": [
            "The Zen of Python, by Tim Peters\n",
            "\n",
            "Beautiful is better than ugly.\n",
            "Explicit is better than implicit.\n",
            "Simple is better than complex.\n",
            "Complex is better than complicated.\n",
            "Flat is better than nested.\n",
            "Sparse is better than dense.\n",
            "Readability counts.\n",
            "Special cases aren't special enough to break the rules.\n",
            "Although practicality beats purity.\n",
            "Errors should never pass silently.\n",
            "Unless explicitly silenced.\n",
            "In the face of ambiguity, refuse the temptation to guess.\n",
            "There should be one-- and preferably only one --obvious way to do it.\n",
            "Although that way may not be obvious at first unless you're Dutch.\n",
            "Now is better than never.\n",
            "Although never is often better than *right* now.\n",
            "If the implementation is hard to explain, it's a bad idea.\n",
            "If the implementation is easy to explain, it may be a good idea.\n",
            "Namespaces are one honking great idea -- let's do more of those!\n"
          ]
        }
      ]
    },
    {
      "cell_type": "code",
      "metadata": {
        "id": "pea3c_PwbI2i"
      },
      "source": [
        "num_entero = 3"
      ],
      "execution_count": 13,
      "outputs": []
    },
    {
      "cell_type": "code",
      "metadata": {
        "colab": {
          "base_uri": "https://localhost:8080/"
        },
        "id": "h9wP0aLtb4NZ",
        "outputId": "06facdcf-cb08-436f-9f29-106fbc1e305b"
      },
      "source": [
        "print (num_entero)"
      ],
      "execution_count": 14,
      "outputs": [
        {
          "output_type": "stream",
          "name": "stdout",
          "text": [
            "3\n"
          ]
        }
      ]
    },
    {
      "cell_type": "code",
      "metadata": {
        "colab": {
          "base_uri": "https://localhost:8080/"
        },
        "id": "EY-gXsVbcDO8",
        "outputId": "21ce474b-1d0a-4504-9e7f-d38e6d66f9f7"
      },
      "source": [
        "help (print)"
      ],
      "execution_count": 15,
      "outputs": [
        {
          "output_type": "stream",
          "name": "stdout",
          "text": [
            "Help on built-in function print in module builtins:\n",
            "\n",
            "print(...)\n",
            "    print(value, ..., sep=' ', end='\\n', file=sys.stdout, flush=False)\n",
            "    \n",
            "    Prints the values to a stream, or to sys.stdout by default.\n",
            "    Optional keyword arguments:\n",
            "    file:  a file-like object (stream); defaults to the current sys.stdout.\n",
            "    sep:   string inserted between values, default a space.\n",
            "    end:   string appended after the last value, default a newline.\n",
            "    flush: whether to forcibly flush the stream.\n",
            "\n"
          ]
        }
      ]
    },
    {
      "cell_type": "code",
      "metadata": {
        "colab": {
          "base_uri": "https://localhost:8080/"
        },
        "id": "ylvE-_PvcIJo",
        "outputId": "968235c4-6b43-4fa1-e570-c4852ba3c404"
      },
      "source": [
        "type ( num_entero)"
      ],
      "execution_count": 16,
      "outputs": [
        {
          "output_type": "execute_result",
          "data": {
            "text/plain": [
              "int"
            ]
          },
          "metadata": {},
          "execution_count": 16
        }
      ]
    },
    {
      "cell_type": "code",
      "metadata": {
        "id": "utL2oPfYR5PC"
      },
      "source": [
        "1 "
      ],
      "execution_count": null,
      "outputs": []
    },
    {
      "cell_type": "markdown",
      "metadata": {
        "id": "Ql-F3n4WS4gt"
      },
      "source": [
        ""
      ]
    },
    {
      "cell_type": "code",
      "metadata": {
        "colab": {
          "base_uri": "https://localhost:8080/"
        },
        "id": "LKnR8T36S5Ft",
        "outputId": "a86cd54e-f5e2-4b4e-a0b8-0b130b76204c"
      },
      "source": [
        "type (.1)"
      ],
      "execution_count": 17,
      "outputs": [
        {
          "output_type": "execute_result",
          "data": {
            "text/plain": [
              "float"
            ]
          },
          "metadata": {},
          "execution_count": 17
        }
      ]
    },
    {
      "cell_type": "code",
      "metadata": {
        "id": "c2EswMKWdjFf"
      },
      "source": [
        "potencia =num_entero ** 3"
      ],
      "execution_count": 20,
      "outputs": []
    },
    {
      "cell_type": "code",
      "metadata": {
        "id": "hp-big2AeQ3a"
      },
      "source": [
        ""
      ],
      "execution_count": null,
      "outputs": []
    },
    {
      "cell_type": "code",
      "metadata": {
        "colab": {
          "base_uri": "https://localhost:8080/"
        },
        "id": "EO-K30XOeIg8",
        "outputId": "68669579-7248-476e-f744-3c3e5776cc68"
      },
      "source": [
        "potencia"
      ],
      "execution_count": 21,
      "outputs": [
        {
          "output_type": "execute_result",
          "data": {
            "text/plain": [
              "27"
            ]
          },
          "metadata": {},
          "execution_count": 21
        }
      ]
    },
    {
      "cell_type": "code",
      "metadata": {
        "id": "y7LNCfk0eTA4"
      },
      "source": [
        "char = \"hola\""
      ],
      "execution_count": 22,
      "outputs": []
    },
    {
      "cell_type": "code",
      "metadata": {
        "colab": {
          "base_uri": "https://localhost:8080/",
          "height": 35
        },
        "id": "2fsRLzisefuE",
        "outputId": "fb84f448-ce65-4bcd-da3d-5133fc43d97b"
      },
      "source": [
        "char"
      ],
      "execution_count": 23,
      "outputs": [
        {
          "output_type": "execute_result",
          "data": {
            "application/vnd.google.colaboratory.intrinsic+json": {
              "type": "string"
            },
            "text/plain": [
              "'hola'"
            ]
          },
          "metadata": {},
          "execution_count": 23
        }
      ]
    },
    {
      "cell_type": "code",
      "metadata": {
        "colab": {
          "base_uri": "https://localhost:8080/",
          "height": 129
        },
        "id": "PcmbOTY-ehdE",
        "outputId": "d0f84b13-dbbb-453b-c6e5-d36a1749bfd0"
      },
      "source": [
        "print (\"el resultado de la operación es: {} y {]\".format(int(float(char))), float (char)+1))"
      ],
      "execution_count": 25,
      "outputs": [
        {
          "output_type": "error",
          "ename": "SyntaxError",
          "evalue": "ignored",
          "traceback": [
            "\u001b[0;36m  File \u001b[0;32m\"<ipython-input-25-630c96f67582>\"\u001b[0;36m, line \u001b[0;32m1\u001b[0m\n\u001b[0;31m    print (\"el resultado de la operación es: {} y {]\".format(int(float(char))), float (char)+1))\u001b[0m\n\u001b[0m                                                                                               ^\u001b[0m\n\u001b[0;31mSyntaxError\u001b[0m\u001b[0;31m:\u001b[0m invalid syntax\n"
          ]
        }
      ]
    },
    {
      "cell_type": "code",
      "metadata": {
        "colab": {
          "base_uri": "https://localhost:8080/",
          "height": 129
        },
        "id": "2Ig131Tsg7dj",
        "outputId": "8223fdda-03ae-4a80-cdae-6b71953c30d0"
      },
      "source": [
        "entero = 3\n",
        "flotante = 4.1\n",
        "print (\"el resultadod de la suma es: {1} y {2} = {0}\".format(int(float(char)), float(char)"
      ],
      "execution_count": 27,
      "outputs": [
        {
          "output_type": "error",
          "ename": "SyntaxError",
          "evalue": "ignored",
          "traceback": [
            "\u001b[0;36m  File \u001b[0;32m\"<ipython-input-27-bd83d080e7b8>\"\u001b[0;36m, line \u001b[0;32m3\u001b[0m\n\u001b[0;31m    print (\"el resultadod de la suma es: {1} y {2} = {0}\".format(int(float(char)), float(char)\u001b[0m\n\u001b[0m                                                                                              ^\u001b[0m\n\u001b[0;31mSyntaxError\u001b[0m\u001b[0;31m:\u001b[0m unexpected EOF while parsing\n"
          ]
        }
      ]
    },
    {
      "cell_type": "code",
      "metadata": {
        "id": "RDpry1Kkie39"
      },
      "source": [
        "print(f\"el resultado de la operación es: {int(floast(char))} + {float(char)} \")"
      ],
      "execution_count": null,
      "outputs": []
    },
    {
      "cell_type": "code",
      "metadata": {
        "id": "bNzyf9i7iGxK"
      },
      "source": [
        "print(f\"el resultado de la operación es \")"
      ],
      "execution_count": null,
      "outputs": []
    },
    {
      "cell_type": "code",
      "metadata": {
        "colab": {
          "base_uri": "https://localhost:8080/",
          "height": 163
        },
        "id": "u88NvBCzfvMA",
        "outputId": "242b34f8-495d-45f9-f33f-24c538f02e00"
      },
      "source": [
        "float(char) +  char"
      ],
      "execution_count": 28,
      "outputs": [
        {
          "output_type": "error",
          "ename": "ValueError",
          "evalue": "ignored",
          "traceback": [
            "\u001b[0;31m---------------------------------------------------------------------------\u001b[0m",
            "\u001b[0;31mValueError\u001b[0m                                Traceback (most recent call last)",
            "\u001b[0;32m<ipython-input-28-ed4245ea6cf9>\u001b[0m in \u001b[0;36m<module>\u001b[0;34m()\u001b[0m\n\u001b[0;32m----> 1\u001b[0;31m \u001b[0mfloat\u001b[0m\u001b[0;34m(\u001b[0m\u001b[0mchar\u001b[0m\u001b[0;34m)\u001b[0m \u001b[0;34m+\u001b[0m  \u001b[0mchar\u001b[0m\u001b[0;34m\u001b[0m\u001b[0;34m\u001b[0m\u001b[0m\n\u001b[0m",
            "\u001b[0;31mValueError\u001b[0m: could not convert string to float: 'hola'"
          ]
        }
      ]
    },
    {
      "cell_type": "code",
      "metadata": {
        "colab": {
          "base_uri": "https://localhost:8080/"
        },
        "id": "teV4J3O-jzlX",
        "outputId": "a9791ba3-df5a-4fdc-f2ff-f3d287eaa62b"
      },
      "source": [
        "round (4.652564236265+5.5235325, ndigits=1)"
      ],
      "execution_count": 29,
      "outputs": [
        {
          "output_type": "execute_result",
          "data": {
            "text/plain": [
              "10.2"
            ]
          },
          "metadata": {},
          "execution_count": 29
        }
      ]
    },
    {
      "cell_type": "code",
      "metadata": {
        "colab": {
          "base_uri": "https://localhost:8080/",
          "height": 299
        },
        "id": "vgig1kBKk08a",
        "outputId": "b17d3f25-6f05-4130-a874-73e67c345672"
      },
      "source": [
        "from math import floor, cell"
      ],
      "execution_count": 30,
      "outputs": [
        {
          "output_type": "error",
          "ename": "ImportError",
          "evalue": "ignored",
          "traceback": [
            "\u001b[0;31m---------------------------------------------------------------------------\u001b[0m",
            "\u001b[0;31mImportError\u001b[0m                               Traceback (most recent call last)",
            "\u001b[0;32m<ipython-input-30-3864f4b550b1>\u001b[0m in \u001b[0;36m<module>\u001b[0;34m()\u001b[0m\n\u001b[0;32m----> 1\u001b[0;31m \u001b[0;32mfrom\u001b[0m \u001b[0mmath\u001b[0m \u001b[0;32mimport\u001b[0m \u001b[0mfloor\u001b[0m\u001b[0;34m,\u001b[0m \u001b[0mcell\u001b[0m\u001b[0;34m\u001b[0m\u001b[0;34m\u001b[0m\u001b[0m\n\u001b[0m",
            "\u001b[0;31mImportError\u001b[0m: cannot import name 'cell' from 'math' (unknown location)",
            "",
            "\u001b[0;31m---------------------------------------------------------------------------\u001b[0;32m\nNOTE: If your import is failing due to a missing package, you can\nmanually install dependencies using either !pip or !apt.\n\nTo view examples of installing some common dependencies, click the\n\"Open Examples\" button below.\n\u001b[0;31m---------------------------------------------------------------------------\u001b[0m\n"
          ],
          "errorDetails": {
            "actions": [
              {
                "action": "open_url",
                "actionText": "Open Examples",
                "url": "/notebooks/snippets/importing_libraries.ipynb"
              }
            ]
          }
        }
      ]
    },
    {
      "cell_type": "code",
      "metadata": {
        "id": "ZbvrarGnlyE2"
      },
      "source": [
        "import math"
      ],
      "execution_count": 31,
      "outputs": []
    },
    {
      "cell_type": "code",
      "metadata": {
        "colab": {
          "base_uri": "https://localhost:8080/"
        },
        "id": "huEI6rXWl3PW",
        "outputId": "eb9fdc5a-842a-4396-c72b-d8433ba9ec5b"
      },
      "source": [
        "floor(6.45634)"
      ],
      "execution_count": 32,
      "outputs": [
        {
          "output_type": "execute_result",
          "data": {
            "text/plain": [
              "6"
            ]
          },
          "metadata": {},
          "execution_count": 32
        }
      ]
    },
    {
      "cell_type": "code",
      "metadata": {
        "colab": {
          "base_uri": "https://localhost:8080/",
          "height": 163
        },
        "id": "0PMZZbMul-QX",
        "outputId": "66e30b22-df0a-4f69-c20e-456760abf30c"
      },
      "source": [
        "ceil (5.55)"
      ],
      "execution_count": 36,
      "outputs": [
        {
          "output_type": "error",
          "ename": "NameError",
          "evalue": "ignored",
          "traceback": [
            "\u001b[0;31m---------------------------------------------------------------------------\u001b[0m",
            "\u001b[0;31mNameError\u001b[0m                                 Traceback (most recent call last)",
            "\u001b[0;32m<ipython-input-36-93ea4421340a>\u001b[0m in \u001b[0;36m<module>\u001b[0;34m()\u001b[0m\n\u001b[0;32m----> 1\u001b[0;31m \u001b[0mceil\u001b[0m \u001b[0;34m(\u001b[0m\u001b[0;36m5.55\u001b[0m\u001b[0;34m)\u001b[0m\u001b[0;34m\u001b[0m\u001b[0;34m\u001b[0m\u001b[0m\n\u001b[0m",
            "\u001b[0;31mNameError\u001b[0m: name 'ceil' is not defined"
          ]
        }
      ]
    },
    {
      "cell_type": "code",
      "metadata": {
        "colab": {
          "base_uri": "https://localhost:8080/"
        },
        "id": "ooJkCYGkmj7B",
        "outputId": "f4ef074d-f437-4e60-b2a0-58fd4a415b33"
      },
      "source": [
        "import numpy as np\n",
        "import pandas as pd\n",
        "import seaborn as sns\n",
        "np.ceil(1.3646)"
      ],
      "execution_count": 37,
      "outputs": [
        {
          "output_type": "execute_result",
          "data": {
            "text/plain": [
              "2.0"
            ]
          },
          "metadata": {},
          "execution_count": 37
        }
      ]
    },
    {
      "cell_type": "code",
      "metadata": {
        "id": "q2RdBpq9nXoE"
      },
      "source": [
        "salarios = 3 ** np.random.uniform(2,5,1000)"
      ],
      "execution_count": 57,
      "outputs": []
    },
    {
      "cell_type": "code",
      "metadata": {
        "id": "vjnexP8DyVCK"
      },
      "source": [
        ""
      ],
      "execution_count": null,
      "outputs": []
    },
    {
      "cell_type": "code",
      "metadata": {
        "id": "GO6lVt7myAeH"
      },
      "source": [
        ""
      ],
      "execution_count": null,
      "outputs": []
    },
    {
      "cell_type": "code",
      "metadata": {
        "colab": {
          "base_uri": "https://localhost:8080/"
        },
        "id": "s-Onvow3pho-",
        "outputId": "e650d845-207f-4da8-f98c-a5fda0a17cc8"
      },
      "source": [
        "salarios"
      ],
      "execution_count": 39,
      "outputs": [
        {
          "output_type": "execute_result",
          "data": {
            "text/plain": [
              "array([16246.39574315, 22899.43201079,  1200.63833681,  1434.79742149,\n",
              "        1438.18753226, 48878.26019166, 27499.29257808,  2283.46853252,\n",
              "        1183.79476562, 36638.28062983,  9820.19711036,  4479.7771902 ,\n",
              "         138.64011497, 25524.34137973,  7950.33094874,  2317.09523794,\n",
              "       47405.43496751, 13547.87382248,   224.70073316,  7345.86517925,\n",
              "        3603.6940133 ,   130.35168641,  1674.3567104 ,   955.90300821,\n",
              "        1805.93635648,  1599.18807646,   430.00606379, 51838.72295069,\n",
              "         232.82005817, 42307.33107872,   409.38573083, 21664.34306652,\n",
              "         236.98639536,   564.37424585, 29367.21487568,   304.04260624,\n",
              "        3516.23785459,   345.78945218,   423.61394087,  1223.48451001,\n",
              "        9143.6777443 ,   251.09064282,  6841.56580995, 72642.08997411,\n",
              "       60576.24726518, 84857.81359516,  8619.20974856,   346.83343356,\n",
              "         869.1918648 ,  3085.77139729,  8963.95008391, 43016.53583695,\n",
              "         706.05966375,   107.30114876,  2775.02665641,  1326.68621709,\n",
              "        7759.37885807, 11579.75451946,  5556.8590475 ,   675.87838181,\n",
              "         232.806512  , 10727.92675735,  2749.94519879,  1514.87516865,\n",
              "        8271.20068492,   127.5637853 ,  1470.47637416,  3492.12148547,\n",
              "       22585.8997507 , 22389.04228567,   789.10011607, 68594.1100672 ,\n",
              "         287.45335117,   124.70314364,   522.16412605, 28045.45328869,\n",
              "         134.81612997,   430.75498399, 80441.44127028,  4190.26281108,\n",
              "       76270.81691905, 55785.26478647,   226.65250696,   104.83166429,\n",
              "       12763.78108684,  6080.27348868,  4316.43344768,   838.81219019,\n",
              "        2218.66140629,  1154.59845062,   543.2768254 , 46516.23992684,\n",
              "       37147.05468412, 39412.6414768 ,   357.16089506, 41381.49779661,\n",
              "         535.26350976,  2978.49299466,  1743.08517988, 53948.39169333,\n",
              "       32222.82533929, 21717.46520308, 41804.28927561,   161.88998437,\n",
              "         212.41405362,  3880.86792011,   106.04851962,  7638.95404879,\n",
              "         287.95755268, 89077.3375976 ,  2766.04951169,  8788.62854517,\n",
              "        1573.15747225,  4593.51663151, 92848.6956897 , 66656.58543493,\n",
              "         102.84445542,   142.0981862 ,   243.71723485, 27954.43245627,\n",
              "       29769.18969791,   377.62118844,   477.59135272,  3289.99686763,\n",
              "       18293.28494316,  2252.18477622,   358.62484934,  2364.00510046,\n",
              "       52080.15936603, 11341.19590722,   288.79152956, 34991.72137092,\n",
              "        4872.60627409,   427.89404542,   704.3080025 ,   785.02091342,\n",
              "         568.90200875,   220.22115487,  7454.21221734,   404.58986413,\n",
              "       28499.72671641, 96861.33220875, 32284.15048903,   263.42732618,\n",
              "        6745.83950114,  9653.07666853, 76020.82259827,   775.40768597,\n",
              "        1891.55453532,  8973.39804159,  4002.83223556,  2323.09588086,\n",
              "       74176.52433295,   802.38665375,   791.40746867,   862.01568857,\n",
              "       11150.61836939,  7981.4396846 ,   788.77458378, 23605.65866751,\n",
              "       11752.33237588,  4146.30497352, 78703.99610994,  4009.70562372,\n",
              "       12619.63776579,   356.06204795,  3310.42017873,  3475.42707325,\n",
              "        2826.69407195,   492.07186905,   226.52309698,  1060.41563647,\n",
              "       17497.34289855,  1227.0739798 ,  1156.8301993 ,  1072.20696592,\n",
              "         503.21677787,   185.8581111 ,   188.18648081, 45035.4162185 ,\n",
              "        9027.88225218,  4056.31254701,   168.41350331,  1137.64503474,\n",
              "       76108.96315074,  1051.77080808,  1189.87573888, 48990.07208733,\n",
              "       78785.84387186, 11566.2224083 ,   227.39919743,   187.91685685,\n",
              "       11915.44551828,  1913.12881127, 63685.33435652, 22689.22254345,\n",
              "       98425.23710271,  7718.30653206,  1218.52046497,  1067.1878631 ,\n",
              "         102.38937229,  7050.41638066,  4078.59529872,   151.05434396,\n",
              "        3137.6784327 ,   467.74888181, 15303.25058394,  2126.70479698,\n",
              "       13731.69528447,   948.61912134,   428.79114643, 28130.7769889 ,\n",
              "       13351.47468426,   193.37246534, 10923.91568986,   427.88839788,\n",
              "        1293.86930681,  2033.09426936, 25529.52800275, 55924.00255715,\n",
              "        1070.67826393,  2137.38739346, 13836.82269825,  3087.52228506,\n",
              "         750.34007091,   575.26918599,   295.26212329,   769.47724884,\n",
              "        2920.14003506, 18785.0114115 , 17204.29176819, 39162.292764  ,\n",
              "        1629.40012606,  2777.65318233,  5653.73142311, 19485.88544253,\n",
              "         372.2711194 ,   370.86529839,  2556.59562764, 34150.88576804,\n",
              "        3235.34417156,   294.27533572, 65149.45981321, 23625.2562767 ,\n",
              "        1150.08656164,   509.32534448, 85379.33348852,   138.57906179,\n",
              "        2089.7195912 ,  5498.31701354, 16429.31569607, 68428.02834839,\n",
              "       25339.16293145,  4560.08874217,   322.46771128,  1735.62744515,\n",
              "         340.81271343,   140.47157517,   438.13991216, 20082.27113095,\n",
              "        2049.73327916,   272.97369933, 17797.64815751,   129.91169032,\n",
              "         336.39633299,  2467.0932974 ,   123.92553535,   580.07419992,\n",
              "         220.12910593, 19517.79304544,  2815.6363369 ,   589.08481582,\n",
              "         991.70207327, 35213.96262908,  4254.78599523,  4710.27859182,\n",
              "         177.22051504, 25551.49677998, 71043.25837621, 32270.5114427 ,\n",
              "       37776.68115336,   113.84576362,   409.67409371, 11254.38904521,\n",
              "       66106.73740984, 22612.15448539,   519.76682409,  2415.55332381,\n",
              "       11803.49465105,   101.8317569 , 31341.54310755,  5315.60871126,\n",
              "         375.11119406, 14000.59964248,  3028.43198874,   439.53487739,\n",
              "         275.24726221,  3325.68433594,   133.91639639, 97904.95747435,\n",
              "         483.44411759,  8940.02540485,   113.00943448, 82779.28585341,\n",
              "         270.03813777,  3194.92330486, 53015.11008212,   481.49823199,\n",
              "         126.76646551,  7718.44449934,  1882.89811619, 58612.14001482,\n",
              "       27502.82060546, 24286.7898107 ,   388.47670342, 50169.13741909,\n",
              "        3965.05125031, 18991.2205873 ,   333.7260158 ,   699.52525887,\n",
              "        5108.60884211,  1240.77327212, 24497.9378435 ,   154.94781396,\n",
              "         218.4350411 ,  4033.39011346,   277.28012727,  8151.02908489,\n",
              "         165.45644345,  2433.67272657,  1144.00480941,  1079.73608602,\n",
              "       15015.05740513,  1014.02491691,  1393.05473732,  1800.30304962,\n",
              "        5289.55119108,  1977.84984781,   162.53880831, 66094.35274511,\n",
              "         504.171431  , 36090.46806223,  4708.79184108,  4614.86185363,\n",
              "         549.28657399,   125.19092035,  3381.11423463,   158.69788149,\n",
              "       11312.71204232,   546.16161345,  5921.2670249 , 44340.07843435,\n",
              "         471.74191434,   504.87203287,  5759.27113385, 99236.68191306,\n",
              "         636.10521869,  1595.12597176, 18996.12016853, 42892.37994233,\n",
              "       15607.41487203,  1552.30542699,   592.99089761, 13518.52372783,\n",
              "        8478.20986493, 16705.3911145 ,  1587.14073194,   447.24028172,\n",
              "       83125.60714529,  1979.77911349,   185.44283914,  2175.47908318,\n",
              "         145.11884653,   362.1529359 ,   362.89949038,  5326.25322446,\n",
              "        6436.39213949, 26271.20571287, 11786.43947984,  2698.5417644 ,\n",
              "         435.07690032, 15154.3315858 ,   175.4855846 ,   679.08595633,\n",
              "        1192.0814047 , 11511.41437482, 30602.17428609,  3922.48011115,\n",
              "        1295.01611678,  7953.62076785,   152.17966932, 27955.68658095,\n",
              "         168.39433078,   910.20985977,  1475.47564554,   412.99334701,\n",
              "       45768.70702087,  2406.11020655, 26578.85600591,   259.08425929,\n",
              "         993.55445489, 37896.70200221,  2021.46071288,  5586.90278197,\n",
              "         372.16528125, 88682.23510907, 15202.13222077,   404.36370116,\n",
              "         120.15347243, 47173.75756119,   567.93788402,  4061.98630667,\n",
              "       48552.49024572,  5750.73321021,   951.63180375,  1808.03250621,\n",
              "         725.21015624, 13094.70826955,  8962.21143591,   813.45913779,\n",
              "         684.34638366,   348.62963094,  8506.32708561, 17070.72502617,\n",
              "         969.28396216, 12290.92070274,   485.94727434, 28541.36985757,\n",
              "         494.21981786,  2850.07034509,  1650.09565065,   481.34987708,\n",
              "       46671.74804848,   144.90242849,  1389.9948471 ,  6174.02163369,\n",
              "        9242.50984892, 35656.69606662,   148.31501505,   543.42982477,\n",
              "         124.62179499,  1024.36779528,  3626.03565549,  8753.69237829,\n",
              "       16330.41825235,   277.77786227,   377.1864754 , 26079.46029167,\n",
              "       13337.78654422,   154.29675103, 31704.19876468,  1025.24034468,\n",
              "       32071.40840414, 58330.57030226,   128.65207865,   156.74647432,\n",
              "         183.93835975,   982.77509686, 70263.21913295,  1658.98620516,\n",
              "       72568.17210149,  1695.81088673, 78844.11825201,   113.78742126,\n",
              "        2204.68887492, 62383.45325251,  4656.05628603, 13426.1863606 ,\n",
              "       11629.33227837,  9206.39809138,  4677.03002151,  6592.05125923,\n",
              "       10002.64674218, 36506.55096954,   437.64351788,  3342.04603813,\n",
              "       23483.66649029,   167.65751808, 17125.91823984,   123.0014156 ,\n",
              "         949.49617198,  1087.85224196, 55063.94401541,   342.32480091,\n",
              "       15305.64303691, 26035.81391674,  9321.13258447,  6656.51678283,\n",
              "       89813.22934119, 31547.68842848,  3645.86682779, 38685.29935092,\n",
              "         305.63886558,   228.36467128, 23086.83643604,  6413.02576948,\n",
              "         222.16155962,  1367.84981073,   922.62012236,   734.58418173,\n",
              "       36275.36721689,   700.39314088,  1348.61996177, 10402.77738286,\n",
              "         124.09700263, 14678.41867332, 93225.08247458, 12258.09853094,\n",
              "       57200.46017305,   224.13017858,   126.18490979,  1493.25148406,\n",
              "       42250.33186497,   276.7438036 ,   561.95585115,  1829.49940052,\n",
              "        6060.90268704, 18429.1958624 ,   120.31121577, 20767.58571986,\n",
              "        1940.19768842,  4293.09017703,  6692.77072327,   220.25263446,\n",
              "       49953.74340967,   402.80460729,   140.35655134,  5992.22206023,\n",
              "        2710.25817687,   568.43886494, 92138.62551063,  9968.70068113,\n",
              "        5330.10903441,   247.85313568,  8230.78965686,   337.20784652,\n",
              "         108.36944677,   295.28790898,  4460.03615722,  3167.56689624,\n",
              "         211.83296921, 19801.21410869, 18956.47156998,   349.67276841,\n",
              "        2476.47799268,   138.09173732, 29544.68876323,  1136.37645967,\n",
              "       20667.04791505, 79798.14987333,  2959.87120415, 35267.7767139 ,\n",
              "        1097.3214332 ,  8964.30781584, 19877.45224373,   459.54057645,\n",
              "        1280.35314885, 18353.13358693,   994.40428021, 98434.09235556,\n",
              "         748.59917592,  8126.89336641,   452.48356208,  1348.90291656,\n",
              "         126.86469516, 66058.52777802,  1861.50149058,  4695.49535016,\n",
              "       32859.54485874,  1194.49362129, 14501.98889871,   163.36605655,\n",
              "       18360.4368059 ,  1311.45965195,  3152.65490718,   330.36845543,\n",
              "        1062.62036586,  2190.41850237,  3784.07842107,   181.08351478,\n",
              "        2002.53985695,  3331.80764855,   372.94507253,  4014.97508863,\n",
              "       12804.10120514, 10065.61037743,  1110.58056743, 17880.81634506,\n",
              "        2652.42708768,   305.34318934, 30031.76443766,  8095.49222559,\n",
              "        1153.05219043,  1048.8905199 , 68242.06877224, 86682.56001299,\n",
              "       28187.56428473, 23419.54026459,   345.54951719, 29325.36465923,\n",
              "        8614.96539358,  2380.37779701, 32128.37552562, 10337.98797394,\n",
              "         377.4611191 , 11128.92071646,  8144.53678157,   791.932319  ,\n",
              "         127.21500645,  4761.03479568,   626.35198517,  9660.26041262,\n",
              "       29725.65608942,  1025.48801486,  2920.03871941,  1029.10526585,\n",
              "         100.12849072, 47475.82142176,  8354.35465212,   112.32113373,\n",
              "         153.12695763,  3242.91052581,   177.65385043,   167.37471394,\n",
              "        2485.82702561,   223.93339613,   254.45108271,  4165.18626287,\n",
              "       41400.2702289 ,  1435.23090879,  1064.41606112,   886.27518733,\n",
              "         604.9900471 ,   124.00435964,  4126.2367936 ,   197.64953767,\n",
              "         738.32796265,   357.81224631, 10225.56288102,   659.84850608,\n",
              "       63095.76495992,   377.55259004, 98109.86238111,  7964.78209193,\n",
              "       75439.02281464,   408.38896717,   506.72761554, 84595.27077262,\n",
              "         438.67343863,   200.46576566,   175.97600829,  1076.83763055,\n",
              "         347.4768187 , 99112.52017476,  2010.3201837 ,  7889.89280534,\n",
              "       71529.325382  ,   572.82204631, 13613.24604503,   196.9174883 ,\n",
              "         117.42233177, 11248.27907393,  2309.68372154,  1660.18553807,\n",
              "        3318.864242  , 31259.78606867,   368.30783571,   200.1055206 ,\n",
              "        9745.42281276,   921.39102896,  7243.61313167,  8331.16966939,\n",
              "         956.06874306,  2177.47908268,   110.63987781,  3110.38819063,\n",
              "         544.43601951,   114.38044215, 24973.26572049,  3093.85476547,\n",
              "         394.67758585,   766.61686717, 19496.13328106,   778.63939272,\n",
              "       33681.16256334,   239.4078431 , 42723.77326497,  9194.11563551,\n",
              "        3257.91581286,   140.86262381,  5285.60664978,   706.62209183,\n",
              "        8320.43406023, 16060.77204496,   335.50584182,  3401.58859633,\n",
              "       72777.04727428,   147.30596615,  1613.20419596,   395.64172785,\n",
              "       56132.43078474,  2552.72849955,  1060.34535871,   256.67395793,\n",
              "       15814.05167141,  2816.3535898 , 41969.22356133,   133.81863465,\n",
              "        5827.37617743,  1571.42493974,   361.015723  ,   788.03809053,\n",
              "        5386.64838944,  1092.19197078, 23395.59084095, 10806.52690184,\n",
              "        2479.42463388,  1613.5124835 , 10582.48737213,   126.62729731,\n",
              "        1460.66009555,   105.60983828,   547.94305996, 51128.17639659,\n",
              "       21307.39956225,  2849.97817626, 98100.12037182,   507.34895247,\n",
              "        5149.07117622,  4070.6495921 ,  9488.36075933, 27970.07854688,\n",
              "         748.91414189, 13549.15526586, 64282.42485068,  2260.3327306 ,\n",
              "       11521.97592581,  1154.73583412,  1099.72599718,  1536.44674376,\n",
              "         104.80633714,   319.43228133,  5601.21374708,   245.32095894,\n",
              "       26622.43487194,  1538.45803158,  1191.23925578, 12645.14819426,\n",
              "        4187.28251364,  2838.15055068, 75709.30411313,   542.07699554,\n",
              "       13244.33571254, 22851.54835947,   671.81712254,   212.30923243,\n",
              "       60184.48163767,   364.86189058,  1524.68288118,  1862.52622796,\n",
              "         121.67717126,  6344.28540382,   167.74016865, 58588.64592466,\n",
              "         338.52178189, 16343.28975916,  1365.22345222,  5922.13330208,\n",
              "        3466.72846169, 30346.46828177,  1272.711507  , 15895.86421212,\n",
              "         700.27706919,   104.65933359, 13253.58818274,  6099.69302011,\n",
              "        1374.89439638,  7090.91341219, 16354.94038303, 13533.52981548,\n",
              "       13325.43717765, 52506.62277948,  2174.12147738, 20345.46657452,\n",
              "         237.42351131,   144.15753718, 46762.0768398 ,   207.41583328,\n",
              "        6220.93792687,  7860.5022458 , 13903.29892589, 95089.28890658,\n",
              "       38796.02090743,   199.46607137,  6340.88982248, 90746.65227345,\n",
              "         220.48707744, 93056.83519557,   377.69748588,   368.56539067,\n",
              "       50565.45027431,   937.84358164, 53160.46256725, 32339.55960406,\n",
              "       43914.57132421,   346.84379858,  1232.1125357 ,   522.76177029,\n",
              "        3057.16043933, 63372.78829788, 92948.44744257,  1580.19516282,\n",
              "        2541.80524405,   186.09959639, 63656.23800775, 75266.48366087,\n",
              "        1561.62607563,   300.5478929 , 97747.21759859,  1222.5112361 ,\n",
              "        4043.8474455 ,  9438.92284686, 19044.01577123,   619.188477  ,\n",
              "       88193.71875673,   117.74476739, 19634.68056426, 32374.37512288,\n",
              "        1443.31721709,  1470.0050339 ,  2457.61141935,  1763.34941751,\n",
              "        5861.20053285,  6152.32420076, 55385.06240469,   668.71049374,\n",
              "         177.37432511, 18155.24294656, 42511.3954967 , 23211.39022865,\n",
              "       27836.54845923,  4823.43967323,  3675.12693844,   163.79514389,\n",
              "       21041.40029071,   673.82024607,   410.56527963, 51925.72511708,\n",
              "         859.88317631,  5297.59444623,   201.89070308,   165.85886063,\n",
              "        2362.48412451, 93469.15714593, 72930.65426578,   794.38223724,\n",
              "       31889.79675572,  7550.67425519, 40377.5231452 ,   479.8581962 ,\n",
              "        4938.27969013, 69211.65862905,  8243.26572323, 62893.13049342,\n",
              "         107.98205576, 80982.21988402,   786.80562715, 64358.1713729 ,\n",
              "        5054.57879456,  7605.98389957,  7574.86905394,  8865.2879668 ,\n",
              "       47029.59138818,   318.97419894,   189.95103393, 27873.72352786,\n",
              "       19582.6186188 ,  1750.51337817, 65772.5131428 ,   152.39409803,\n",
              "         636.06686508, 10136.44458393,   189.21917556,  2985.43690721,\n",
              "        1377.25375121,   312.87506272,   360.09292193,  1601.30479782,\n",
              "       49798.48548646,  6512.49408348, 16116.71991851,   180.1281246 ,\n",
              "       28738.13732275, 70893.42394658,   253.18453953,  4221.58055464,\n",
              "        1094.86581846,  4191.30421816,  1739.96575495,  2599.29035165,\n",
              "         405.6238492 , 41702.00178887, 10275.30448728,   260.24830939,\n",
              "       47114.82677973, 59892.02195394, 18741.6212203 ,   411.87794501,\n",
              "         554.23309856, 45683.85843246, 57494.5089143 ,   106.15338302,\n",
              "       75732.34170737,  1094.55871083, 63375.10862441,  2760.58464165,\n",
              "        3311.644811  , 54333.60502704, 24918.7571214 , 31556.05469735,\n",
              "       28464.45990883, 56302.92947022, 19691.08720399, 60600.40932121,\n",
              "       13515.95037168,  1811.0572615 , 13325.63752519, 19270.13730611,\n",
              "       81112.83624607, 12381.16194298,   141.25538794,  6713.17892223,\n",
              "         194.40903671,   128.5489953 , 10498.29310625,  6185.55269046,\n",
              "        3112.64209788,  2074.23593027,   746.3040699 , 10688.32669886,\n",
              "         181.08154333, 17009.12396048,   125.01786092,   192.43602903,\n",
              "       41227.00415273,  1363.85336603,  1552.47778845,  1256.59862782,\n",
              "        5199.86884563,  1296.03960226,   306.53014594, 50577.50967604,\n",
              "       14197.17374905,  9237.93561168, 34451.07132383,  1984.96568981,\n",
              "       13011.21003551, 40378.28797617,   199.02506521,   108.23757011,\n",
              "        1809.06681694,  4098.02271206, 97380.64537497,   299.16041763,\n",
              "        7332.03208621,   256.37859901,  7797.12050283, 11678.43406735,\n",
              "        1535.28726083,  1481.29583681,  8334.69435256, 10662.99049636,\n",
              "       35662.50070465, 17761.36310968,  2617.0429561 , 28549.80010511,\n",
              "         777.67857121, 12575.51548058,   946.01477725,   532.86910404,\n",
              "       23053.03504526,  1712.53444786, 36592.09642949, 68649.48831919,\n",
              "       35427.78510602,   805.04618149, 40024.87937778, 13213.87900222,\n",
              "        2845.70546486,   734.63553296,  4423.64322831, 30983.72927384,\n",
              "        2325.03193552,   315.32914328,  2545.90136885, 80105.71467532,\n",
              "        2711.94553327,  7652.75447398,   428.37557325, 26777.78883849])"
            ]
          },
          "metadata": {},
          "execution_count": 39
        }
      ]
    },
    {
      "cell_type": "code",
      "metadata": {
        "colab": {
          "base_uri": "https://localhost:8080/"
        },
        "id": "Z-A0nhypplGb",
        "outputId": "10ee26a0-c23d-4116-bc78-fe36ba7fa803"
      },
      "source": [
        "len(salarios)"
      ],
      "execution_count": 40,
      "outputs": [
        {
          "output_type": "execute_result",
          "data": {
            "text/plain": [
              "1000"
            ]
          },
          "metadata": {},
          "execution_count": 40
        }
      ]
    },
    {
      "cell_type": "code",
      "metadata": {
        "colab": {
          "base_uri": "https://localhost:8080/"
        },
        "id": "fO30wFoqqqIN",
        "outputId": "b66c6776-04d9-49bc-f978-4deb97cb64a5"
      },
      "source": [
        "salarios.mean()"
      ],
      "execution_count": 42,
      "outputs": [
        {
          "output_type": "execute_result",
          "data": {
            "text/plain": [
              "14387.993967034812"
            ]
          },
          "metadata": {},
          "execution_count": 42
        }
      ]
    },
    {
      "cell_type": "code",
      "metadata": {
        "colab": {
          "base_uri": "https://localhost:8080/"
        },
        "id": "4VUaoEQJq3uG",
        "outputId": "5294b304-a4c8-4bfe-ee0c-262e7d81cd93"
      },
      "source": [
        "salarios [0:10]"
      ],
      "execution_count": 44,
      "outputs": [
        {
          "output_type": "execute_result",
          "data": {
            "text/plain": [
              "array([16246.39574315, 22899.43201079,  1200.63833681,  1434.79742149,\n",
              "        1438.18753226, 48878.26019166, 27499.29257808,  2283.46853252,\n",
              "        1183.79476562, 36638.28062983])"
            ]
          },
          "metadata": {},
          "execution_count": 44
        }
      ]
    },
    {
      "cell_type": "code",
      "metadata": {
        "colab": {
          "base_uri": "https://localhost:8080/"
        },
        "id": "IE0NKdc1rMQW",
        "outputId": "03228cef-f2c1-4180-d22f-c2d8cdd88823"
      },
      "source": [
        "salarios[:10]"
      ],
      "execution_count": 45,
      "outputs": [
        {
          "output_type": "execute_result",
          "data": {
            "text/plain": [
              "array([16246.39574315, 22899.43201079,  1200.63833681,  1434.79742149,\n",
              "        1438.18753226, 48878.26019166, 27499.29257808,  2283.46853252,\n",
              "        1183.79476562, 36638.28062983])"
            ]
          },
          "metadata": {},
          "execution_count": 45
        }
      ]
    },
    {
      "cell_type": "code",
      "metadata": {
        "colab": {
          "base_uri": "https://localhost:8080/"
        },
        "id": "rAQURpQXrbTs",
        "outputId": "6b7ac81d-20cd-44ff-8054-c22bbab16a0c"
      },
      "source": [
        "salarios[999]"
      ],
      "execution_count": 48,
      "outputs": [
        {
          "output_type": "execute_result",
          "data": {
            "text/plain": [
              "26777.788838494827"
            ]
          },
          "metadata": {},
          "execution_count": 48
        }
      ]
    },
    {
      "cell_type": "code",
      "metadata": {
        "colab": {
          "base_uri": "https://localhost:8080/"
        },
        "id": "KxarzN0ssYgO",
        "outputId": "76d4dc0c-e957-4054-9029-9b422d248551"
      },
      "source": [
        "salarios[:10].astype(int)"
      ],
      "execution_count": 49,
      "outputs": [
        {
          "output_type": "execute_result",
          "data": {
            "text/plain": [
              "array([16246, 22899,  1200,  1434,  1438, 48878, 27499,  2283,  1183,\n",
              "       36638])"
            ]
          },
          "metadata": {},
          "execution_count": 49
        }
      ]
    },
    {
      "cell_type": "code",
      "metadata": {
        "colab": {
          "base_uri": "https://localhost:8080/"
        },
        "id": "0DVAqC9Xsz71",
        "outputId": "70465fb6-06e0-4fda-ef6a-ede64d56617c"
      },
      "source": [
        "salarios[:10].astype(str)"
      ],
      "execution_count": 50,
      "outputs": [
        {
          "output_type": "execute_result",
          "data": {
            "text/plain": [
              "array(['16246.395743150373', '22899.43201079309', '1200.638336805283',\n",
              "       '1434.7974214879187', '1438.187532259073', '48878.260191658286',\n",
              "       '27499.2925780848', '2283.4685325193336', '1183.7947656173878',\n",
              "       '36638.28062983129'], dtype='<U32')"
            ]
          },
          "metadata": {},
          "execution_count": 50
        }
      ]
    },
    {
      "cell_type": "code",
      "metadata": {
        "colab": {
          "base_uri": "https://localhost:8080/"
        },
        "id": "VFcVYJhIs-VW",
        "outputId": "5e70fe6d-e168-4015-8bb2-e93ea0e95de0"
      },
      "source": [
        "salarios.shape"
      ],
      "execution_count": 51,
      "outputs": [
        {
          "output_type": "execute_result",
          "data": {
            "text/plain": [
              "(1000,)"
            ]
          },
          "metadata": {},
          "execution_count": 51
        }
      ]
    },
    {
      "cell_type": "code",
      "metadata": {
        "colab": {
          "base_uri": "https://localhost:8080/",
          "height": 336
        },
        "id": "Oq-WhYWNtB1R",
        "outputId": "3379a060-0ea7-4947-efdb-57d13ffcbce5"
      },
      "source": [
        "sns.distplot(salarios)"
      ],
      "execution_count": 58,
      "outputs": [
        {
          "output_type": "stream",
          "name": "stderr",
          "text": [
            "/usr/local/lib/python3.7/dist-packages/seaborn/distributions.py:2619: FutureWarning: `distplot` is a deprecated function and will be removed in a future version. Please adapt your code to use either `displot` (a figure-level function with similar flexibility) or `histplot` (an axes-level function for histograms).\n",
            "  warnings.warn(msg, FutureWarning)\n"
          ]
        },
        {
          "output_type": "execute_result",
          "data": {
            "text/plain": [
              "<matplotlib.axes._subplots.AxesSubplot at 0x7fe847ffa0d0>"
            ]
          },
          "metadata": {},
          "execution_count": 58
        },
        {
          "output_type": "display_data",
          "data": {
            "image/png": "[encoded data removed]",
            "text/plain": [
              "<Figure size 432x288 with 1 Axes>"
            ]
          },
          "metadata": {
            "needs_background": "light"
          }
        }
      ]
    },
    {
      "cell_type": "code",
      "metadata": {
        "id": "JPQbBzqXyYH4"
      },
      "source": [
        ""
      ],
      "execution_count": null,
      "outputs": []
    },
    {
      "cell_type": "code",
      "metadata": {
        "id": "eg03sumUyEp5"
      },
      "source": [
        ""
      ],
      "execution_count": null,
      "outputs": []
    },
    {
      "cell_type": "code",
      "metadata": {
        "colab": {
          "base_uri": "https://localhost:8080/",
          "height": 336
        },
        "id": "hSzowKnKtJwK",
        "outputId": "df5db235-7635-4439-d14f-f09a7362f946"
      },
      "source": [
        "sns.distplot (np.log10(salarios))"
      ],
      "execution_count": 59,
      "outputs": [
        {
          "output_type": "stream",
          "name": "stderr",
          "text": [
            "/usr/local/lib/python3.7/dist-packages/seaborn/distributions.py:2619: FutureWarning: `distplot` is a deprecated function and will be removed in a future version. Please adapt your code to use either `displot` (a figure-level function with similar flexibility) or `histplot` (an axes-level function for histograms).\n",
            "  warnings.warn(msg, FutureWarning)\n"
          ]
        },
        {
          "output_type": "execute_result",
          "data": {
            "text/plain": [
              "<matplotlib.axes._subplots.AxesSubplot at 0x7fe847f54fd0>"
            ]
          },
          "metadata": {},
          "execution_count": 59
        },
        {
          "output_type": "display_data",
          "data": {
            "image/png": "[encoded data removed]",
            "text/plain": [
              "<Figure size 432x288 with 1 Axes>"
            ]
          },
          "metadata": {
            "needs_background": "light"
          }
        }
      ]
    },
    {
      "cell_type": "code",
      "metadata": {
        "colab": {
          "base_uri": "https://localhost:8080/"
        },
        "id": "haZ69VtQybfg",
        "outputId": "907e64fb-ded8-4b19-ef09-d33910435c76"
      },
      "source": [
        "salarios [4] > salarios [5]"
      ],
      "execution_count": 60,
      "outputs": [
        {
          "output_type": "execute_result",
          "data": {
            "text/plain": [
              "False"
            ]
          },
          "metadata": {},
          "execution_count": 60
        }
      ]
    },
    {
      "cell_type": "code",
      "metadata": {
        "colab": {
          "base_uri": "https://localhost:8080/",
          "height": 35
        },
        "id": "lYejh1o4zIct",
        "outputId": "336c7c02-26ec-4324-928e-fdbd0e8a2e8c"
      },
      "source": [
        "nombre = \"idbootcamps\"\n",
        "nombre.upper()"
      ],
      "execution_count": 61,
      "outputs": [
        {
          "output_type": "execute_result",
          "data": {
            "application/vnd.google.colaboratory.intrinsic+json": {
              "type": "string"
            },
            "text/plain": [
              "'IDBOOTCAMPS'"
            ]
          },
          "metadata": {},
          "execution_count": 61
        }
      ]
    },
    {
      "cell_type": "code",
      "metadata": {
        "id": "0OwWpclQzpiN"
      },
      "source": [
        "lista = [1,5,7,8,9]"
      ],
      "execution_count": null,
      "outputs": []
    },
    {
      "cell_type": "code",
      "metadata": {
        "colab": {
          "base_uri": "https://localhost:8080/"
        },
        "id": "lJDxymu2yHfy",
        "outputId": "fe2cbad3-fa98-4de4-d226-74219b06cf2d"
      },
      "source": [
        "[method for method in dir(nombre) if not method.startswith(\"__\")]"
      ],
      "execution_count": 67,
      "outputs": [
        {
          "output_type": "execute_result",
          "data": {
            "text/plain": [
              "['capitalize',\n",
              " 'casefold',\n",
              " 'center',\n",
              " 'count',\n",
              " 'encode',\n",
              " 'endswith',\n",
              " 'expandtabs',\n",
              " 'find',\n",
              " 'format',\n",
              " 'format_map',\n",
              " 'index',\n",
              " 'isalnum',\n",
              " 'isalpha',\n",
              " 'isascii',\n",
              " 'isdecimal',\n",
              " 'isdigit',\n",
              " 'isidentifier',\n",
              " 'islower',\n",
              " 'isnumeric',\n",
              " 'isprintable',\n",
              " 'isspace',\n",
              " 'istitle',\n",
              " 'isupper',\n",
              " 'join',\n",
              " 'ljust',\n",
              " 'lower',\n",
              " 'lstrip',\n",
              " 'maketrans',\n",
              " 'partition',\n",
              " 'replace',\n",
              " 'rfind',\n",
              " 'rindex',\n",
              " 'rjust',\n",
              " 'rpartition',\n",
              " 'rsplit',\n",
              " 'rstrip',\n",
              " 'split',\n",
              " 'splitlines',\n",
              " 'startswith',\n",
              " 'strip',\n",
              " 'swapcase',\n",
              " 'title',\n",
              " 'translate',\n",
              " 'upper',\n",
              " 'zfill']"
            ]
          },
          "metadata": {},
          "execution_count": 67
        }
      ]
    },
    {
      "cell_type": "code",
      "metadata": {
        "id": "thavUGM32kcv"
      },
      "source": [
        ""
      ],
      "execution_count": null,
      "outputs": []
    },
    {
      "cell_type": "code",
      "metadata": {
        "id": "_PGpVDL_2bVU"
      },
      "source": [
        ""
      ],
      "execution_count": null,
      "outputs": []
    },
    {
      "cell_type": "code",
      "metadata": {
        "id": "JElOvmWU2YiW"
      },
      "source": [
        ""
      ],
      "execution_count": null,
      "outputs": []
    },
    {
      "cell_type": "code",
      "metadata": {
        "id": "0gdQeFot17O-"
      },
      "source": [
        ""
      ],
      "execution_count": null,
      "outputs": []
    },
    {
      "cell_type": "code",
      "metadata": {
        "id": "YxSd6Ikt11T-"
      },
      "source": [
        ""
      ],
      "execution_count": null,
      "outputs": []
    },
    {
      "cell_type": "code",
      "metadata": {
        "id": "Z-rxLQyS1wUm"
      },
      "source": [
        ""
      ],
      "execution_count": null,
      "outputs": []
    },
    {
      "cell_type": "code",
      "metadata": {
        "id": "aJXxqk4Etiks"
      },
      "source": [
        ""
      ],
      "execution_count": null,
      "outputs": []
    },
    {
      "cell_type": "code",
      "metadata": {
        "id": "srst1xi3r7Hc"
      },
      "source": [
        ""
      ],
      "execution_count": null,
      "outputs": []
    },
    {
      "cell_type": "code",
      "metadata": {
        "id": "ianuh79Dr4P_"
      },
      "source": [
        ""
      ],
      "execution_count": null,
      "outputs": []
    },
    {
      "cell_type": "code",
      "metadata": {
        "id": "EAUkqcPgrI5E"
      },
      "source": [
        ""
      ],
      "execution_count": null,
      "outputs": []
    },
    {
      "cell_type": "code",
      "metadata": {
        "id": "l-P_fpRXqy1N"
      },
      "source": [
        ""
      ],
      "execution_count": null,
      "outputs": []
    },
    {
      "cell_type": "code",
      "metadata": {
        "id": "kg6VshTJmRYB"
      },
      "source": [
        ""
      ],
      "execution_count": null,
      "outputs": []
    },
    {
      "cell_type": "code",
      "metadata": {
        "id": "B92grcx3mIPE"
      },
      "source": [
        ""
      ],
      "execution_count": null,
      "outputs": []
    },
    {
      "cell_type": "code",
      "metadata": {
        "id": "RB02tqXumCKS"
      },
      "source": [
        ""
      ],
      "execution_count": null,
      "outputs": []
    },
    {
      "cell_type": "code",
      "metadata": {
        "id": "4lwBTHhUeL7x"
      },
      "source": [
        ""
      ],
      "execution_count": null,
      "outputs": []
    },
    {
      "cell_type": "code",
      "metadata": {
        "id": "SgWx9xEzRsSv"
      },
      "source": [
        ""
      ],
      "execution_count": null,
      "outputs": []
    }
  ]
}