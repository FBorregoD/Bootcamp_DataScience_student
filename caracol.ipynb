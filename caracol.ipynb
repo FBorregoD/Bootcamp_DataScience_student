{
  "nbformat": 4,
  "nbformat_minor": 0,
  "metadata": {
    "colab": {
      "name": "caracol.ipynb",
      "provenance": [],
      "authorship_tag": "ABX9TyMdvWCUo/xLI1Oh+qpBqpRY",
      "include_colab_link": true
    },
    "kernelspec": {
      "name": "python3",
      "display_name": "Python 3"
    },
    "language_info": {
      "name": "python"
    }
  },
  "cells": [
    {
      "cell_type": "markdown",
      "metadata": {
        "id": "view-in-github",
        "colab_type": "text"
      },
      "source": [
        "<a href=\"https://colab.research.google.com/github/ricardocarreras/Bootcamp_DataScience_student/blob/master/caracol.ipynb\" target=\"_parent\"><img src=\"https://colab.research.google.com/assets/colab-badge.svg\" alt=\"Open In Colab\"/></a>"
      ]
    },
    {
      "cell_type": "code",
      "metadata": {
        "id": "dfdMegtjjgqj"
      },
      "source": [
        ""
      ],
      "execution_count": null,
      "outputs": []
    },
    {
      "cell_type": "code",
      "metadata": {
        "id": "L-wblr6HcokO",
        "colab": {
          "base_uri": "https://localhost:8080/"
        },
        "outputId": "b9dc0d4c-7ce0-43aa-d4b2-96d28240a372"
      },
      "source": [
        "alturapozo = 125\n",
        "avancedia = 30\n",
        "retrocesonoche = 20\n",
        "posicioncaracol = 0\n",
        "dias = 0\n",
        "\n",
        "while True:\n",
        "    dias += 1\n",
        "    posicioncaracol += avancedia\n",
        "    if posicioncaracol >= alturapozo:\n",
        "        break\n",
        "    posicioncaracol -= retrocesonoche\n",
        "print(dias)\n"
      ],
      "execution_count": 3,
      "outputs": [
        {
          "output_type": "stream",
          "name": "stdout",
          "text": [
            "11\n"
          ]
        }
      ]
    },
    {
      "cell_type": "code",
      "metadata": {
        "id": "VniUPJX5lV09"
      },
      "source": [
        ""
      ],
      "execution_count": null,
      "outputs": []
    }
  ]
}